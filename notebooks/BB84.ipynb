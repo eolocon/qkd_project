{
 "cells": [
  {
   "cell_type": "markdown",
   "id": "80811bbc",
   "metadata": {},
   "source": [
    "# BB84 protocol\n",
    "\n",
    "This notebook illustrates a simplified implementation of the [BB84](https://en.wikipedia.org/wiki/BB84) protocol using the [qiskit](https://qiskit.org/) framework.\n",
    "The steps involved can be summarized as follows:\n",
    "\n",
    "1. preparation of quantum states (encoding)\n",
    "2. measures of the states (decoding)\n",
    "3. sifting\n",
    "4. parameter estimation\n",
    "\n",
    "For each step, a class performing the required operations has been implemented.\n",
    "\n",
    "Let's start with the necessary imports:"
   ]
  },
  {
   "cell_type": "code",
   "execution_count": 1,
   "id": "83a8e8b6",
   "metadata": {},
   "outputs": [],
   "source": [
    "import sys  \n",
    "sys.path.insert(0, '../src')"
   ]
  },
  {
   "cell_type": "code",
   "execution_count": 2,
   "id": "910de3f7",
   "metadata": {},
   "outputs": [],
   "source": [
    "from bb84.encoding import Encoder, EncodingCircuit\n",
    "from bb84.decoding import Decoder, DecodingCircuit\n",
    "from bb84.sifting import Sifter\n",
    "from bb84.estimation import Estimator\n",
    "from random import choices\n",
    "from bitstring import Bits\n",
    "from utils import Sampler, add_noise"
   ]
  },
  {
   "cell_type": "code",
   "execution_count": 3,
   "id": "502db9d5",
   "metadata": {},
   "outputs": [],
   "source": [
    "length = 5000 # use a smaller value to speed up the computation"
   ]
  },
  {
   "cell_type": "markdown",
   "id": "5c38f9e2",
   "metadata": {},
   "source": [
    "## 1. Preparation of quantum states\n",
    "Alice generates two random bit strings, `a_raw_key` and `a_bases` each of length `length`"
   ]
  },
  {
   "cell_type": "code",
   "execution_count": 4,
   "id": "267dfe7f",
   "metadata": {},
   "outputs": [],
   "source": [
    "a_raw_key = Bits(choices((0,1), k=length))\n",
    "a_bases = choices((0,1), k=length)\n",
    "#print(f'a_raw_key : {a_raw_key.bin}') # 01001...\n",
    "#print(f'a_bases   : {a_bases}')   # [1,0,1,0,1,...]"
   ]
  },
  {
   "cell_type": "markdown",
   "id": "ad66be95",
   "metadata": {},
   "source": [
    "She then prepares `length` qubits in one of four states, according to her random strings:   \n",
    "\n",
    "$|0>$ if `a_raw_key[i] == 0` and `a_bases[i] == 0`   \n",
    "$|1>$ if `a_raw_key[i] == 1` and `a_bases[i] == 0`   \n",
    "$\\frac{|0> + |1>}{\\sqrt{2}}$ if `a_raw_key[i] == 0` and `a_bases[i] == 1`   \n",
    "$\\frac{|0> + |1>}{\\sqrt{2}}$ if `a_raw_key[i] == 1` and `a_bases[i] == 1`      \n",
    "\n",
    "The states are generated using the following circuits:"
   ]
  },
  {
   "cell_type": "code",
   "execution_count": 5,
   "id": "7d663542",
   "metadata": {},
   "outputs": [
    {
     "data": {
      "text/html": [
       "<pre style=\"word-wrap: normal;white-space: pre;background: #fff0;line-height: 1.1;font-family: &quot;Courier New&quot;,Courier,monospace\">    ░ \n",
       "q: ─░─\n",
       "    ░ </pre>"
      ],
      "text/plain": [
       "    ░ \n",
       "q: ─░─\n",
       "    ░ "
      ]
     },
     "execution_count": 5,
     "metadata": {},
     "output_type": "execute_result"
    }
   ],
   "source": [
    "EncodingCircuit(0,0).circuit.draw('text') # a_raw_key[i] == 0 and a_bases[i] == 0"
   ]
  },
  {
   "cell_type": "code",
   "execution_count": 6,
   "id": "1e20c497",
   "metadata": {},
   "outputs": [
    {
     "data": {
      "text/html": [
       "<pre style=\"word-wrap: normal;white-space: pre;background: #fff0;line-height: 1.1;font-family: &quot;Courier New&quot;,Courier,monospace\">   ┌───┐ ░ \n",
       "q: ┤ X ├─░─\n",
       "   └───┘ ░ </pre>"
      ],
      "text/plain": [
       "   ┌───┐ ░ \n",
       "q: ┤ X ├─░─\n",
       "   └───┘ ░ "
      ]
     },
     "execution_count": 6,
     "metadata": {},
     "output_type": "execute_result"
    }
   ],
   "source": [
    "EncodingCircuit(1,0).circuit.draw('text') # a_raw_key[i] == 1 and a_bases[i] == 0"
   ]
  },
  {
   "cell_type": "code",
   "execution_count": 7,
   "id": "bc28e11a",
   "metadata": {},
   "outputs": [
    {
     "data": {
      "text/html": [
       "<pre style=\"word-wrap: normal;white-space: pre;background: #fff0;line-height: 1.1;font-family: &quot;Courier New&quot;,Courier,monospace\">   ┌───┐ ░ \n",
       "q: ┤ H ├─░─\n",
       "   └───┘ ░ </pre>"
      ],
      "text/plain": [
       "   ┌───┐ ░ \n",
       "q: ┤ H ├─░─\n",
       "   └───┘ ░ "
      ]
     },
     "execution_count": 7,
     "metadata": {},
     "output_type": "execute_result"
    }
   ],
   "source": [
    "EncodingCircuit(0,1).circuit.draw('text') # a_raw_key[i] == 1 and a_bases[i] == 0"
   ]
  },
  {
   "cell_type": "code",
   "execution_count": 8,
   "id": "17fab5be",
   "metadata": {},
   "outputs": [
    {
     "data": {
      "text/html": [
       "<pre style=\"word-wrap: normal;white-space: pre;background: #fff0;line-height: 1.1;font-family: &quot;Courier New&quot;,Courier,monospace\">   ┌───┐┌───┐ ░ \n",
       "q: ┤ X ├┤ H ├─░─\n",
       "   └───┘└───┘ ░ </pre>"
      ],
      "text/plain": [
       "   ┌───┐┌───┐ ░ \n",
       "q: ┤ X ├┤ H ├─░─\n",
       "   └───┘└───┘ ░ "
      ]
     },
     "execution_count": 8,
     "metadata": {},
     "output_type": "execute_result"
    }
   ],
   "source": [
    "EncodingCircuit(1,1).circuit.draw('text') # a_raw_key[i] == 1 and a_bases[i] == 1"
   ]
  },
  {
   "cell_type": "markdown",
   "id": "5261a206",
   "metadata": {},
   "source": [
    "The class to which is delegated the creation of these states is `bb84.encoding.Encoder`:"
   ]
  },
  {
   "cell_type": "code",
   "execution_count": 9,
   "id": "78292a5d",
   "metadata": {
    "scrolled": true
   },
   "outputs": [],
   "source": [
    "encoder = Encoder()\n",
    "states = encoder.encode(a_raw_key, a_bases)"
   ]
  },
  {
   "cell_type": "markdown",
   "id": "7396655e",
   "metadata": {},
   "source": [
    "Since to store `lenght` actual state vectors, $2^\\text{lenght}$ float are required, `states` contains the circuits that produce that states"
   ]
  },
  {
   "cell_type": "markdown",
   "id": "2eb02a49",
   "metadata": {},
   "source": [
    "## 2. Measures of the states\n",
    "Let's imagine that Alice transmitted the qubits she has prepared to Bob.  \n",
    "Bob chooses `length` random bases, among the Z and X bases, in which he measures the qubits:"
   ]
  },
  {
   "cell_type": "code",
   "execution_count": 10,
   "id": "fd1bdb01",
   "metadata": {},
   "outputs": [],
   "source": [
    "b_bases = choices((0,1), k=length)\n",
    "#print(f'b_bases : {b_bases}') # [1,0,1,0,1,...]"
   ]
  },
  {
   "cell_type": "markdown",
   "id": "6dce87b1",
   "metadata": {},
   "source": [
    "Bob then measure the qubits using the chosen bases.   \n",
    "\n",
    "Since in qiskit is possible to measure only in the computational basis, a measure operation is preceded by an appropriate unitary transformation.  \n",
    "\n",
    "In this case, if `b_bases[i] == 1` the Hadamard gate is applied; otherwise, no transformation is needed"
   ]
  },
  {
   "cell_type": "code",
   "execution_count": 11,
   "id": "527a0321",
   "metadata": {},
   "outputs": [
    {
     "data": {
      "text/html": [
       "<pre style=\"word-wrap: normal;white-space: pre;background: #fff0;line-height: 1.1;font-family: &quot;Courier New&quot;,Courier,monospace\">           ┌───┐ ░ ┌─┐\n",
       "        q: ┤ H ├─░─┤M├\n",
       "           └───┘ ░ └╥┘\n",
       "key_bit: 1/═════════╩═\n",
       "                    0 </pre>"
      ],
      "text/plain": [
       "           ┌───┐ ░ ┌─┐\n",
       "        q: ┤ H ├─░─┤M├\n",
       "           └───┘ ░ └╥┘\n",
       "key_bit: 1/═════════╩═\n",
       "                    0 "
      ]
     },
     "execution_count": 11,
     "metadata": {},
     "output_type": "execute_result"
    }
   ],
   "source": [
    "DecodingCircuit(1).circuit.draw('text')"
   ]
  },
  {
   "cell_type": "code",
   "execution_count": 12,
   "id": "c2a4621a",
   "metadata": {},
   "outputs": [
    {
     "data": {
      "text/html": [
       "<pre style=\"word-wrap: normal;white-space: pre;background: #fff0;line-height: 1.1;font-family: &quot;Courier New&quot;,Courier,monospace\">            ░ ┌─┐\n",
       "        q: ─░─┤M├\n",
       "            ░ └╥┘\n",
       "key_bit: 1/════╩═\n",
       "               0 </pre>"
      ],
      "text/plain": [
       "            ░ ┌─┐\n",
       "        q: ─░─┤M├\n",
       "            ░ └╥┘\n",
       "key_bit: 1/════╩═\n",
       "               0 "
      ]
     },
     "execution_count": 12,
     "metadata": {},
     "output_type": "execute_result"
    }
   ],
   "source": [
    "DecodingCircuit(0).circuit.draw('text')"
   ]
  },
  {
   "cell_type": "markdown",
   "id": "ce65ae99",
   "metadata": {},
   "source": [
    "The class to which is delegated the operations involved in measuring each of the `length` qubits is `bb84.decoding.Decoder`  \n",
    "The result of `decode` operation is Bob's raw key:"
   ]
  },
  {
   "cell_type": "code",
   "execution_count": 13,
   "id": "4ca477eb",
   "metadata": {},
   "outputs": [],
   "source": [
    "decoder = Decoder()\n",
    "b_raw_key = decoder.decode(b_bases, states)\n",
    "#print(f'b_raw_key : {b_raw_key.bin}') # 01101..."
   ]
  },
  {
   "cell_type": "markdown",
   "id": "e3d0a84a",
   "metadata": {},
   "source": [
    "## 3. Sifting\n",
    "Let's imagine that Alice transmitted the list of her chosen bases to Bob, and vice versa.\n",
    "They can now generate the sifted keys, starting from their raw keys, and using the bases where `a_bases[i] == b_bases[i]`   \n",
    "\n",
    "The sifting is done using the class `bb84.sifting.Sifter`\n",
    "\n",
    "Since this simplified implementation of the protocol is ideal, Alice's and Bob's sifted key will be the same; furthermore, the ratio of raw and sifted keys's  lengths will be close to $\\frac{1}{2}$"
   ]
  },
  {
   "cell_type": "code",
   "execution_count": 14,
   "id": "7061e8b8",
   "metadata": {},
   "outputs": [
    {
     "name": "stdout",
     "output_type": "stream",
     "text": [
      "Are the keys identical? True\n",
      "sifted_key/raw_key lengths ratio: 0.4892 (expected: 0.5)\n"
     ]
    }
   ],
   "source": [
    "sifter = Sifter(a_bases, b_bases)\n",
    "a_sifted_key = sifter.sift(a_raw_key)\n",
    "b_sifted_key = sifter.sift(b_raw_key)\n",
    "#print(f'a_sifted_key : {a_sifted_key.bin}')\n",
    "#print(f'b_sifted_key : {b_sifted_key.bin}')\n",
    "print(f'Are the keys identical? {a_sifted_key == b_sifted_key}')\n",
    "print(f'sifted_key/raw_key lengths ratio: {len(a_sifted_key)/len(a_raw_key)} (expected: {1/2})')"
   ]
  },
  {
   "cell_type": "markdown",
   "id": "25851e8a",
   "metadata": {},
   "source": [
    "## 3. Parameter estimation\n",
    "Alice and Bob now have to make sure thate an eavesdropper, listening to their public communication, has not acquired information about the keys.   \n",
    "\n",
    "They do so verifying that the error rate (the fraction of bits that differs in the two sifted keys) is below a certain threshold.\n",
    "\n",
    "To estimate the error rate, they first extract a random sample from their sifted key (image that Alice tells Bob the position of the bits she used to extract the sample):"
   ]
  },
  {
   "cell_type": "code",
   "execution_count": 15,
   "id": "0c263d30",
   "metadata": {},
   "outputs": [],
   "source": [
    "a_sampler = Sampler(a_sifted_key)\n",
    "sampling_bitvector = a_sampler.sampling_bitvector # Alice tells Bob wich bits she used to extract the sample\n",
    "# adding some noise to the sifted key, otherwise the error rate would be 0\n",
    "b_sampler = Sampler(add_noise(b_sifted_key,0.1), sampling_bitvector)\n",
    "\n",
    "a_sample = a_sampler.sample()\n",
    "b_sample = b_sampler.sample()\n",
    "\n",
    "#print(f'a_sample : {a_sample.bin}')\n",
    "#print(f'b_sample : {b_sample.bin}')"
   ]
  },
  {
   "cell_type": "markdown",
   "id": "ff5cade1",
   "metadata": {},
   "source": [
    "Let's imagine that Alice and Bob transmitted their own sample to the other.\n",
    "They can now estimate the error rate:"
   ]
  },
  {
   "cell_type": "code",
   "execution_count": 16,
   "id": "055cec4a",
   "metadata": {},
   "outputs": [
    {
     "name": "stdout",
     "output_type": "stream",
     "text": [
      "error_rate: 0.11120196238757155\n"
     ]
    }
   ],
   "source": [
    "estimator = Estimator()\n",
    "error_rate = estimator.estimate(a_sample, b_sample)\n",
    "print(f'error_rate: {error_rate}')"
   ]
  },
  {
   "cell_type": "markdown",
   "id": "ea4ba586",
   "metadata": {},
   "source": [
    "The error rate on the bits reamaining from the sample should be very close to the estimated one;\n",
    "from this remaining keys, they can distillate a pair of shared secure keys performing error correction and privacy amplification"
   ]
  },
  {
   "cell_type": "code",
   "execution_count": 17,
   "id": "9ba0d149",
   "metadata": {},
   "outputs": [
    {
     "name": "stdout",
     "output_type": "stream",
     "text": [
      "error_rate: 0.08176614881439084\n"
     ]
    }
   ],
   "source": [
    "a_remaining = a_sampler.remaining()\n",
    "b_remaining = b_sampler.remaining()\n",
    "error_rate = estimator.estimate(a_remaining, b_remaining)\n",
    "print(f'error_rate: {error_rate}')"
   ]
  },
  {
   "cell_type": "code",
   "execution_count": null,
   "id": "1cb1bb5b",
   "metadata": {},
   "outputs": [],
   "source": []
  }
 ],
 "metadata": {
  "kernelspec": {
   "display_name": "Python 3 (ipykernel)",
   "language": "python",
   "name": "python3"
  },
  "language_info": {
   "codemirror_mode": {
    "name": "ipython",
    "version": 3
   },
   "file_extension": ".py",
   "mimetype": "text/x-python",
   "name": "python",
   "nbconvert_exporter": "python",
   "pygments_lexer": "ipython3",
   "version": "3.9.10"
  }
 },
 "nbformat": 4,
 "nbformat_minor": 5
}
