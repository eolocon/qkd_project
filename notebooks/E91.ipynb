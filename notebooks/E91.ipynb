{
 "cells": [
  {
   "cell_type": "markdown",
   "id": "80811bbc",
   "metadata": {},
   "source": [
    "# E91 protocol\n",
    "\n",
    "This notebook illustrates a simplified implementation of the [E91](https://en.wikipedia.org/wiki/Quantum_key_distribution#E91_protocol:_Artur_Ekert_.281991.29) protocol using the [qiskit](https://qiskit.org/) framework.\n",
    "The steps involved can be summarized as follows:\n",
    "\n",
    "1. creation of entangled states (encoding)\n",
    "2. generation of raw key (decoding)\n",
    "3. sifting\n",
    "4. CHSH inequality test (parameter estimation)\n",
    "\n",
    "For each step, a class performing the required operations has been implemented.\n",
    "\n",
    "Let's start with the necessary imports:"
   ]
  },
  {
   "cell_type": "code",
   "execution_count": 1,
   "id": "83a8e8b6",
   "metadata": {},
   "outputs": [],
   "source": [
    "import sys  \n",
    "sys.path.insert(0, '../src')"
   ]
  },
  {
   "cell_type": "code",
   "execution_count": 2,
   "id": "910de3f7",
   "metadata": {},
   "outputs": [],
   "source": [
    "from e91.encoding import Encoder, EncodingCircuit\n",
    "from e91.decoding import Decoder, DecodingCircuit\n",
    "from e91.sifting import Sifter\n",
    "from e91.estimation import Estimator\n",
    "from random import choices"
   ]
  },
  {
   "cell_type": "code",
   "execution_count": 3,
   "id": "502db9d5",
   "metadata": {},
   "outputs": [],
   "source": [
    "length = 5000 # use a smaller value to speed up the computation"
   ]
  },
  {
   "cell_type": "markdown",
   "id": "5c38f9e2",
   "metadata": {},
   "source": [
    "## 1. Creation of entangled states\n",
    "Alice and Bob will receive each `length` qubit of the pair prepared in the state $\\frac{|01> - |10>}{\\sqrt{2}}$.   \n",
    "The states are generated using the following circuit:"
   ]
  },
  {
   "cell_type": "code",
   "execution_count": 4,
   "id": "7d663542",
   "metadata": {},
   "outputs": [
    {
     "data": {
      "text/html": [
       "<pre style=\"word-wrap: normal;white-space: pre;background: #fff0;line-height: 1.1;font-family: &quot;Courier New&quot;,Courier,monospace\">     ┌───┐┌───┐      ░ \n",
       "q_0: ┤ X ├┤ H ├──■───░─\n",
       "     ├───┤└───┘┌─┴─┐ ░ \n",
       "q_1: ┤ X ├─────┤ X ├─░─\n",
       "     └───┘     └───┘ ░ </pre>"
      ],
      "text/plain": [
       "     ┌───┐┌───┐      ░ \n",
       "q_0: ┤ X ├┤ H ├──■───░─\n",
       "     ├───┤└───┘┌─┴─┐ ░ \n",
       "q_1: ┤ X ├─────┤ X ├─░─\n",
       "     └───┘     └───┘ ░ "
      ]
     },
     "execution_count": 4,
     "metadata": {},
     "output_type": "execute_result"
    }
   ],
   "source": [
    "EncodingCircuit().circuit.draw('text')"
   ]
  },
  {
   "cell_type": "markdown",
   "id": "5261a206",
   "metadata": {},
   "source": [
    "The class to which is delegated the creation of `length` of these states is `e91.encoding.Encoder`:"
   ]
  },
  {
   "cell_type": "code",
   "execution_count": 5,
   "id": "78292a5d",
   "metadata": {
    "scrolled": true
   },
   "outputs": [],
   "source": [
    "encoder = Encoder()\n",
    "states = encoder.encode(length)"
   ]
  },
  {
   "cell_type": "markdown",
   "id": "e95d8274",
   "metadata": {},
   "source": [
    "Since to store `lenght` actual state vectors, $2^\\text{lenght}$ float are required, `states` contains the circuits that produce that states"
   ]
  },
  {
   "cell_type": "markdown",
   "id": "2eb02a49",
   "metadata": {},
   "source": [
    "## 2. Generation of raw key\n",
    "Let's imagine that the qubits had been distributed to Alice and Bob.  \n",
    "Both of them choose `length` random bases among the bases of operators $A_0$, $A_1$, $A_2$ (Alice), $B_0$, $B_1$, $B_2$ (Bob)(these operators are specified by the protocol) in which measure their qubits:"
   ]
  },
  {
   "cell_type": "code",
   "execution_count": 6,
   "id": "fd1bdb01",
   "metadata": {},
   "outputs": [],
   "source": [
    "a_bases = choices((0,1,2), k=length)\n",
    "b_bases = choices((0,1,2), k=length)\n",
    "#print(f'a_bases : {a_bases}') # [0,0,1,2,1,...]\n",
    "#print(f'b_bases : {b_bases}') # [1,2,1,0,1,...]"
   ]
  },
  {
   "cell_type": "markdown",
   "id": "6dce87b1",
   "metadata": {},
   "source": [
    "Alice and Bob then measure their qubits using the chosen bases.   \n",
    "\n",
    "Since in qiskit is possible to measure only in the computational basis, a measure operation is preceded by an appropriate unitary transformation.  \n",
    "\n",
    "For instance, if `a_bases[i]` = 1 and `b_bases[i]` = 2, the circuit used to perform the measure is:"
   ]
  },
  {
   "cell_type": "code",
   "execution_count": 7,
   "id": "527a0321",
   "metadata": {},
   "outputs": [
    {
     "data": {
      "text/html": [
       "<pre style=\"word-wrap: normal;white-space: pre;background: #fff0;line-height: 1.1;font-family: &quot;Courier New&quot;,Courier,monospace\">        ┌───┐     ░ ┌─┐   \n",
       "q_0: ───┤ H ├─────░─┤M├───\n",
       "     ┌──┴───┴───┐ ░ └╥┘┌─┐\n",
       "q_1: ┤ Ry(-π/4) ├─░──╫─┤M├\n",
       "     └──────────┘ ░  ║ └╥┘\n",
       "a: 1/════════════════╩══╬═\n",
       "                     0  ║ \n",
       "                        ║ \n",
       "b: 1/═══════════════════╩═\n",
       "                        0 </pre>"
      ],
      "text/plain": [
       "        ┌───┐     ░ ┌─┐   \n",
       "q_0: ───┤ H ├─────░─┤M├───\n",
       "     ┌──┴───┴───┐ ░ └╥┘┌─┐\n",
       "q_1: ┤ Ry(-π/4) ├─░──╫─┤M├\n",
       "     └──────────┘ ░  ║ └╥┘\n",
       "a: 1/════════════════╩══╬═\n",
       "                     0  ║ \n",
       "                        ║ \n",
       "b: 1/═══════════════════╩═\n",
       "                        0 "
      ]
     },
     "execution_count": 7,
     "metadata": {},
     "output_type": "execute_result"
    }
   ],
   "source": [
    "DecodingCircuit(1,2).circuit.draw('text')"
   ]
  },
  {
   "cell_type": "markdown",
   "id": "ce65ae99",
   "metadata": {},
   "source": [
    "The class to which is delegated the operations involved in measuring each of the `length` qubits is `e91.decoding.Decoder`  \n",
    "The result of `decode` operation is a string of bits (the raw key), for each partecipant:"
   ]
  },
  {
   "cell_type": "code",
   "execution_count": 8,
   "id": "4ca477eb",
   "metadata": {},
   "outputs": [],
   "source": [
    "decoder = Decoder()\n",
    "a_raw_key, b_raw_key = decoder.decode(a_bases, b_bases, states)\n",
    "#print(f'a_raw_key : {a_raw_key.bin}') # 10101...\n",
    "#print(f'b_raw_key : {b_raw_key.bin}') # 01101..."
   ]
  },
  {
   "cell_type": "markdown",
   "id": "e3d0a84a",
   "metadata": {},
   "source": [
    "## 3. Sifting\n",
    "Let's imagine that Alice transmitted the list of her chosen bases to Bob, and vice versa.\n",
    "They can now generate the sifted keys, starting from their raw keys, and using the bases where `a_bases[i] == b_bases[i]` and `a_bases[i] == 0` or `a_bases[i] == 2`   \n",
    "\n",
    "The sifting is done using the class `e91.sifting.Sifter`\n",
    "\n",
    "Since this simplified implementation of the protocol is ideal, Alice's and Bob's sifted key will be one the 1 complement of the other; furthermore, the ratio of raw and sifted keys's  lengths will be close to $\\frac{2}{9}$"
   ]
  },
  {
   "cell_type": "code",
   "execution_count": 9,
   "id": "7061e8b8",
   "metadata": {},
   "outputs": [
    {
     "name": "stdout",
     "output_type": "stream",
     "text": [
      "Are the keys complementary? True\n",
      "sifted_key/raw_key lengths ratio: 0.2292 (expected: 0.2222222222222222)\n"
     ]
    }
   ],
   "source": [
    "sifter = Sifter(a_bases, b_bases)\n",
    "a_sifted_key = sifter.sift(a_raw_key)\n",
    "b_sifted_key = sifter.sift(b_raw_key)\n",
    "#print(f'a_sifted_key : {a_sifted_key.bin}')\n",
    "#print(f'b_sifted_key : {b_sifted_key.bin}')\n",
    "print(f'Are the keys complementary? {a_sifted_key == ~b_sifted_key}')\n",
    "print(f'sifted_key/raw_key lengths ratio: {len(a_sifted_key)/len(a_raw_key)} (expected: {2/9})')"
   ]
  },
  {
   "cell_type": "markdown",
   "id": "25851e8a",
   "metadata": {},
   "source": [
    "## 3. CHSH inequality test\n",
    "Alice and Bob now have to make sure thate an eavesdropper, listening to their public communication, has not acquired information about the keys.   \n",
    "They do so verifying that the quantity $<A_0B_2> + <A_0B_1> + <A_1B_2> - <A_1B_1>$ is (nearly) equal to $-2\\sqrt{2}$.   \n",
    "The expectation values $<A_iB_j>$ are computed simply counting each occurence of the possible measure pairs (0,0), (0,1), (1,0), (1,1) (using the raw keys) for each operator pair $A_iB_j$ (determined by the Alice's and Bob's chosen bases).   \n",
    "\n",
    "These operaions are implemented in the class `e91.estimation.Estimator`"
   ]
  },
  {
   "cell_type": "code",
   "execution_count": 10,
   "id": "055cec4a",
   "metadata": {},
   "outputs": [
    {
     "name": "stdout",
     "output_type": "stream",
     "text": [
      "parameter: -2.8362541624906896 (expected : -2.8284271247461903)\n"
     ]
    }
   ],
   "source": [
    "estimator = Estimator()\n",
    "parameter = estimator.estimate(a_raw_key, b_raw_key, a_bases, b_bases)\n",
    "print(f'parameter: {parameter} (expected : {-2 * pow(2,0.5)})')"
   ]
  }
 ],
 "metadata": {
  "kernelspec": {
   "display_name": "Python 3 (ipykernel)",
   "language": "python",
   "name": "python3"
  },
  "language_info": {
   "codemirror_mode": {
    "name": "ipython",
    "version": 3
   },
   "file_extension": ".py",
   "mimetype": "text/x-python",
   "name": "python",
   "nbconvert_exporter": "python",
   "pygments_lexer": "ipython3",
   "version": "3.9.9"
  }
 },
 "nbformat": 4,
 "nbformat_minor": 5
}
