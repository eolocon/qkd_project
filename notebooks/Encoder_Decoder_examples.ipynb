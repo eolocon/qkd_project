{
 "cells": [
  {
   "cell_type": "code",
   "execution_count": 1,
   "id": "8e91e66a",
   "metadata": {},
   "outputs": [],
   "source": [
    "import sys  \n",
    "sys.path.insert(0, '../')"
   ]
  },
  {
   "cell_type": "markdown",
   "id": "2f63d39e",
   "metadata": {},
   "source": [
    "# `Encoder`/`Decoder` example\n",
    "\n",
    "This notebook illustrates the use of the `Encoder` and `Decoder` class for a 'prepare and measure' QKD protocol.  \n",
    "\n",
    "Let's start with the necessary imports:"
   ]
  },
  {
   "cell_type": "code",
   "execution_count": 2,
   "id": "f138ba29",
   "metadata": {},
   "outputs": [],
   "source": [
    "from encoding import Encoder, Decoder\n",
    "from random import choices"
   ]
  },
  {
   "cell_type": "markdown",
   "id": "b45891de",
   "metadata": {},
   "source": [
    "##  - encoding: generating key and basis bits\n",
    "The first step is generating the bits to encode (`key_bits_A`) and the bits (`basis_bits_A`) that determine the basis used to encode `key_bits_A`.\n",
    "\n",
    "**NOTE**: in order to have predictable decoding results, the bits in `basis_bits_A` are all zero.  \n",
    "To try with random generated basis bits, just uncomment line `4` in the following snippet.  \n",
    "\n",
    "**NOTE**: the first bit in list of key bits is the least significative bit."
   ]
  },
  {
   "cell_type": "code",
   "execution_count": 3,
   "id": "5e899a5b",
   "metadata": {
    "scrolled": true
   },
   "outputs": [
    {
     "name": "stdout",
     "output_type": "stream",
     "text": [
      "A key bits: [1, 1, 0, 0, 0, 1, 0, 1, 0, 1]       \n",
      "A basis bits: [0, 0, 0, 0, 0, 0, 0, 0, 0, 0]\n"
     ]
    }
   ],
   "source": [
    "key_size = 10\n",
    "key_bits_A = choices(population=(0,1), k=key_size)\n",
    "basis_bits_A = [0 for i in range(key_size)]\n",
    "#base_bits_A = choices(population=(0,1), k=key_size)\n",
    "\n",
    "print(f'A key bits: {key_bits_A} \\\n",
    "      \\nA basis bits: {basis_bits_A}')"
   ]
  },
  {
   "cell_type": "markdown",
   "id": "ae30a093",
   "metadata": {},
   "source": [
    "## - encoding: instantiating an `Encoder` object\n",
    "The second step is instantiating an Encoder object and initializing it with the key bits, the basis bits, and the protocol to use (BB84, in this example)"
   ]
  },
  {
   "cell_type": "code",
   "execution_count": 4,
   "id": "4e5573c6",
   "metadata": {},
   "outputs": [],
   "source": [
    "encoder = Encoder(key_bits_A, basis_bits_A, 'BB84')"
   ]
  },
  {
   "cell_type": "markdown",
   "id": "73b27abc",
   "metadata": {},
   "source": [
    "## - encoding: calling the `encode()` method\n",
    "To encode the key bits, call `Encoder.encode()` method on the `Encoder` object. \n",
    "\n",
    "Under the hood, a (protocol dependent) quantum circuit is generated using the qiskit framework; \n",
    "the qubits, initially in the |0> state, are transformed using quantum gates according to the key bits and the basis bits.\n",
    "\n",
    "For instance, in the case of BB84 protocol: \n",
    "- if the i-th key bit is `1`, a qubit-flip gate is applied; \n",
    "- if the i-th basis bit is `1`, a Hadamard gate is applied.\n",
    "\n",
    "The result of encoding is a state vector reflecting the action of the quantum circuit.\n",
    "\n",
    "**NOTE**: the order used by qiskit to store the qubits is big-endian (the most significant is the leftmost qubit), while the standard notation is with the least significant bit/qubit as the first bit.  \n",
    "\n",
    "to clarify, encoding the bit string '001' in the computational basis, will result in the state vector |100> instead of the state vector |001>.\n"
   ]
  },
  {
   "cell_type": "code",
   "execution_count": 5,
   "id": "5b3f53c9",
   "metadata": {
    "scrolled": true
   },
   "outputs": [
    {
     "data": {
      "text/latex": [
       "$$ |1010100011\\rangle$$"
      ],
      "text/plain": [
       "<IPython.core.display.Latex object>"
      ]
     },
     "execution_count": 5,
     "metadata": {},
     "output_type": "execute_result"
    }
   ],
   "source": [
    "encoder.encode()\n",
    "encoded = encoder.state_vector\n",
    "encoded.draw('latex')"
   ]
  },
  {
   "cell_type": "markdown",
   "id": "aa40860a",
   "metadata": {},
   "source": [
    "## - decoding: generate the basis bits\n",
    "To decode the qubits in the state vector resulting from encoding, the bits to determine in which basis measure each qubit (`basis_bits_B`) is generated;\n",
    "\n",
    "**NOTE**: the bits in `basis_bits_B` are all zero in order to get predictable decoding results.  \n",
    "To use random bits, just uncomment line `2` in the following snippet."
   ]
  },
  {
   "cell_type": "code",
   "execution_count": 6,
   "id": "ca326cf6",
   "metadata": {},
   "outputs": [
    {
     "name": "stdout",
     "output_type": "stream",
     "text": [
      "B basis bits: [0, 0, 0, 0, 0, 0, 0, 0, 0, 0]\n"
     ]
    }
   ],
   "source": [
    "basis_bits_B = [0 for i in range(key_size)]\n",
    "#basis_bits_B = choices(population=(0,1), k=key_size)\n",
    "\n",
    "print(f'B basis bits: {basis_bits_B}')"
   ]
  },
  {
   "cell_type": "markdown",
   "id": "8a5373e0",
   "metadata": {},
   "source": [
    "## - decoding: instantiating a `Decoder` object\n",
    "then, a `Decoder` object is needed; this is initialized with the state vector, the basis bits, and the protocol to use (BB84, in this example)"
   ]
  },
  {
   "cell_type": "code",
   "execution_count": 7,
   "id": "203d472b",
   "metadata": {},
   "outputs": [],
   "source": [
    "decoder = Decoder(encoded, basis_bits_B, 'BB84')"
   ]
  },
  {
   "cell_type": "markdown",
   "id": "853f67d3",
   "metadata": {},
   "source": [
    "## - decoding: calling the `decode()` method  \n",
    "To decode the qubits, call the `Decoder.decode()` method on the `Decoder` object.  \n",
    "\n",
    "Under the hood, a (protocol dependent) quantum circuit is generated using the qiskit framework; \n",
    "the qubits, initialized with the state vector, are transformed using quantum gates according to the basis bits.\n",
    "\n",
    "For instance, in the case of BB84 protocol, if the i-th basis bit is `1`, a Hadamard gate is applied.\n",
    "\n",
    "The result of decoding is a list of bit, with the least significative bit as first element."
   ]
  },
  {
   "cell_type": "code",
   "execution_count": 8,
   "id": "ce10e52a",
   "metadata": {
    "scrolled": true
   },
   "outputs": [
    {
     "name": "stdout",
     "output_type": "stream",
     "text": [
      "B key bits: [1, 1, 0, 0, 0, 1, 0, 1, 0, 1]\n"
     ]
    }
   ],
   "source": [
    "decoder.decode()\n",
    "\n",
    "key_bits_B = decoder.key_bits\n",
    "print(f'B key bits: {key_bits_B}')"
   ]
  },
  {
   "cell_type": "markdown",
   "id": "85675277",
   "metadata": {},
   "source": [
    "## - checking the results\n",
    "the following line check if the decoded bits are the same of the original ones;  \n",
    "clearly, this makes sense only if the computational basis is used during both encoding and decoding"
   ]
  },
  {
   "cell_type": "code",
   "execution_count": 9,
   "id": "d59d6dab",
   "metadata": {},
   "outputs": [],
   "source": [
    "assert key_bits_A == key_bits_B"
   ]
  }
 ],
 "metadata": {
  "celltoolbar": "Raw Cell Format",
  "kernelspec": {
   "display_name": "Python 3 (ipykernel)",
   "language": "python",
   "name": "python3"
  },
  "language_info": {
   "codemirror_mode": {
    "name": "ipython",
    "version": 3
   },
   "file_extension": ".py",
   "mimetype": "text/x-python",
   "name": "python",
   "nbconvert_exporter": "python",
   "pygments_lexer": "ipython3",
   "version": "3.9.9"
  }
 },
 "nbformat": 4,
 "nbformat_minor": 5
}
